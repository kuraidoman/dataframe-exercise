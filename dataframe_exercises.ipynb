{
  "nbformat": 4,
  "nbformat_minor": 0,
  "metadata": {
    "colab": {
      "provenance": [],
      "authorship_tag": "ABX9TyPD7H0XrFm98m3JEzdoDCPo",
      "include_colab_link": true
    },
    "kernelspec": {
      "name": "python3",
      "display_name": "Python 3"
    },
    "language_info": {
      "name": "python"
    }
  },
  "cells": [
    {
      "cell_type": "markdown",
      "metadata": {
        "id": "view-in-github",
        "colab_type": "text"
      },
      "source": [
        "<a href=\"https://colab.research.google.com/github/kuraidoman/dataframe-exercise/blob/main/dataframe_exercises.ipynb\" target=\"_parent\"><img src=\"https://colab.research.google.com/assets/colab-badge.svg\" alt=\"Open In Colab\"/></a>"
      ]
    },
    {
      "cell_type": "code",
      "execution_count": 7,
      "metadata": {
        "colab": {
          "base_uri": "https://localhost:8080/"
        },
        "id": "69RLIP_W7GSf",
        "outputId": "60c90972-985d-45f6-b9da-01518946660f"
      },
      "outputs": [
        {
          "output_type": "stream",
          "name": "stdout",
          "text": [
            "   OrderID   Product     Category  Quantity  Price Customer Region  Total\n",
            "0     1001    Laptop  Electronics         2    800    Alice  North   1600\n",
            "1     1002     Mouse  Accessories         5     20      Bob  South    100\n",
            "2     1003  Keyboard  Accessories         3     50  Charlie   East    150\n",
            "3     1004   Monitor  Electronics         4    200    Diana   West    800\n",
            "4     1005    Laptop  Electronics         1    850    Ethan  North    850\n"
          ]
        }
      ],
      "source": [
        "import pandas as pd\n",
        "\n",
        "# Sample sales dataset (20 rows)\n",
        "data = {\n",
        "    \"OrderID\": range(1001, 1021),\n",
        "    \"Product\": [\n",
        "        \"Laptop\", \"Mouse\", \"Keyboard\", \"Monitor\", \"Laptop\",\n",
        "        \"Headphones\", \"Mouse\", \"Chair\", \"Desk\", \"Laptop\",\n",
        "        \"Printer\", \"Keyboard\", \"Monitor\", \"Mouse\", \"Laptop\",\n",
        "        \"Headphones\", \"Desk\", \"Monitor\", \"Printer\", \"Chair\"\n",
        "    ],\n",
        "    \"Category\": [\n",
        "        \"Electronics\", \"Accessories\", \"Accessories\", \"Electronics\", \"Electronics\",\n",
        "        \"Accessories\", \"Accessories\", \"Furniture\", \"Furniture\", \"Electronics\",\n",
        "        \"Electronics\", \"Accessories\", \"Electronics\", \"Accessories\", \"Electronics\",\n",
        "        \"Accessories\", \"Furniture\", \"Electronics\", \"Electronics\", \"Furniture\"\n",
        "    ],\n",
        "    \"Quantity\": [2, 5, 3, 4, 1, 6, 10, 2, 1, 3, 2, 4, 2, 7, 5, 3, 2, 4, 1, 6],\n",
        "    \"Price\": [800, 20, 50, 200, 850, 40, 25, 150, 300, 900, 120, 55, 250, 20, 750, 35, 280, 220, 110, 180],\n",
        "    \"Customer\": [\n",
        "        \"Alice\", \"Bob\", \"Charlie\", \"Diana\", \"Ethan\",\n",
        "        \"Fiona\", \"George\", \"Hannah\", \"Ian\", \"Jane\",\n",
        "        \"Kyle\", \"Laura\", \"Mike\", \"Nina\", \"Oscar\",\n",
        "        \"Paul\", \"Queen\", \"Robert\", \"Sarah\", \"Tom\"\n",
        "    ],\n",
        "    \"Region\": [\n",
        "        \"North\", \"South\", \"East\", \"West\", \"North\",\n",
        "        \"South\", \"East\", \"West\", \"North\", \"South\",\n",
        "        \"East\", \"West\", \"North\", \"South\", \"East\",\n",
        "        \"West\", \"North\", \"South\", \"East\", \"West\"\n",
        "    ]\n",
        "}\n",
        "\n",
        "# Create DataFrame\n",
        "df = pd.DataFrame(data)\n",
        "\n",
        "# Compute Total column\n",
        "df[\"Total\"] = df[\"Quantity\"] * df[\"Price\"]\n",
        "\n",
        "print(df.head(5))"
      ]
    },
    {
      "cell_type": "code",
      "source": [
        "import pandas as pd\n",
        "\n",
        "# Step 1: Create DataFrame\n",
        "data = {\n",
        "    # dictionary with OrderID, Product, etc.\n",
        "        \"OrderID\": range(1001, 1021),\n",
        "    \"Product\": [\n",
        "        \"Laptop\", \"Mouse\", \"Keyboard\", \"Monitor\", \"Laptop\",\n",
        "        \"Headphones\", \"Mouse\", \"Chair\", \"Desk\", \"Laptop\",\n",
        "        \"Printer\", \"Keyboard\", \"Monitor\", \"Mouse\", \"Laptop\",\n",
        "        \"Headphones\", \"Desk\", \"Monitor\", \"Printer\", \"Chair\"\n",
        "    ],\n",
        "    \"Category\": [\n",
        "        \"Electronics\", \"Accessories\", \"Accessories\", \"Electronics\", \"Electronics\",\n",
        "        \"Accessories\", \"Accessories\", \"Furniture\", \"Furniture\", \"Electronics\",\n",
        "        \"Electronics\", \"Accessories\", \"Electronics\", \"Accessories\", \"Electronics\",\n",
        "        \"Accessories\", \"Furniture\", \"Electronics\", \"Electronics\", \"Furniture\"\n",
        "    ],\n",
        "    \"Quantity\": [2, 5, 3, 4, 1, 6, 10, 2, 1, 3, 2, 4, 2, 7, 5, 3, 2, 4, 1, 6],\n",
        "    \"Price\": [800, 20, 50, 200, 850, 40, 25, 150, 300, 900, 120, 55, 250, 20, 750, 35, 280, 220, 110, 180],\n",
        "    \"Customer\": [\n",
        "        \"Alice\", \"Bob\", \"Charlie\", \"Diana\", \"Ethan\",\n",
        "        \"Fiona\", \"George\", \"Hannah\", \"Ian\", \"Jane\",\n",
        "        \"Kyle\", \"Laura\", \"Mike\", \"Nina\", \"Oscar\",\n",
        "        \"Paul\", \"Queen\", \"Robert\", \"Sarah\", \"Tom\"\n",
        "    ],\n",
        "    \"Region\": [\n",
        "        \"North\", \"South\", \"East\", \"West\", \"North\",\n",
        "        \"South\", \"East\", \"West\", \"North\", \"South\",\n",
        "        \"East\", \"West\", \"North\", \"South\", \"East\",\n",
        "        \"West\", \"North\", \"South\", \"East\", \"West\"\n",
        "    ]\n",
        "}\n",
        "df = pd.DataFrame(data)\n",
        "\n",
        "# Step 2: Show first 5 rows\n",
        "print(df.head(5))\n",
        "\n",
        "# Step 3: Print DataFrame shape\n",
        "print(\"Shape:\", df.shape)\n",
        "\n",
        "# Step 4: Show column names\n",
        "print(\"Columns:\", df.columns)\n"
      ],
      "metadata": {
        "colab": {
          "base_uri": "https://localhost:8080/"
        },
        "id": "rilEenB1-cqC",
        "outputId": "4cd17aac-884f-46a4-d52a-859984b8d051"
      },
      "execution_count": 8,
      "outputs": [
        {
          "output_type": "stream",
          "name": "stdout",
          "text": [
            "   OrderID   Product     Category  Quantity  Price Customer Region\n",
            "0     1001    Laptop  Electronics         2    800    Alice  North\n",
            "1     1002     Mouse  Accessories         5     20      Bob  South\n",
            "2     1003  Keyboard  Accessories         3     50  Charlie   East\n",
            "3     1004   Monitor  Electronics         4    200    Diana   West\n",
            "4     1005    Laptop  Electronics         1    850    Ethan  North\n",
            "Shape: (20, 7)\n",
            "Columns: Index(['OrderID', 'Product', 'Category', 'Quantity', 'Price', 'Customer',\n",
            "       'Region'],\n",
            "      dtype='object')\n"
          ]
        }
      ]
    },
    {
      "cell_type": "code",
      "source": [
        "import pandas as pd\n",
        "\n",
        "# Step 1: Create DataFrame\n",
        "data = {\n",
        "    # dictionary with OrderID, Product, etc.\n",
        "        \"OrderID\": range(1001, 1021),\n",
        "    \"Product\": [\n",
        "        \"Laptop\", \"Mouse\", \"Keyboard\", \"Monitor\", \"Laptop\",\n",
        "        \"Headphones\", \"Mouse\", \"Chair\", \"Desk\", \"Laptop\",\n",
        "        \"Printer\", \"Keyboard\", \"Monitor\", \"Mouse\", \"Laptop\",\n",
        "        \"Headphones\", \"Desk\", \"Monitor\", \"Printer\", \"Chair\"\n",
        "    ],\n",
        "    \"Category\": [\n",
        "        \"Electronics\", \"Accessories\", \"Accessories\", \"Electronics\", \"Electronics\",\n",
        "        \"Accessories\", \"Accessories\", \"Furniture\", \"Furniture\", \"Electronics\",\n",
        "        \"Electronics\", \"Accessories\", \"Electronics\", \"Accessories\", \"Electronics\",\n",
        "        \"Accessories\", \"Furniture\", \"Electronics\", \"Electronics\", \"Furniture\"\n",
        "    ],\n",
        "    \"Quantity\": [2, 5, 3, 4, 1, 6, 10, 2, 1, 3, 2, 4, 2, 7, 5, 3, 2, 4, 1, 6],\n",
        "    \"Price\": [800, 20, 50, 200, 850, 40, 25, 150, 300, 900, 120, 55, 250, 20, 750, 35, 280, 220, 110, 180],\n",
        "    \"Customer\": [\n",
        "        \"Alice\", \"Bob\", \"Charlie\", \"Diana\", \"Ethan\",\n",
        "        \"Fiona\", \"George\", \"Hannah\", \"Ian\", \"Jane\",\n",
        "        \"Kyle\", \"Laura\", \"Mike\", \"Nina\", \"Oscar\",\n",
        "        \"Paul\", \"Queen\", \"Robert\", \"Sarah\", \"Tom\"\n",
        "    ],\n",
        "    \"Region\": [\n",
        "        \"North\", \"South\", \"East\", \"West\", \"North\",\n",
        "        \"South\", \"East\", \"West\", \"North\", \"South\",\n",
        "        \"East\", \"West\", \"North\", \"South\", \"East\",\n",
        "        \"West\", \"North\", \"South\", \"East\", \"West\"\n",
        "    ]\n",
        "}\n",
        "df = pd.DataFrame(data)\n",
        "\n",
        "# Compute Total column\n",
        "df[\"Total\"] = df[\"Quantity\"] * df[\"Price\"]\n",
        "\n",
        "# Step 1: Create new record\n",
        "new_row = {\n",
        "    \"OrderID\": 1021,\n",
        "    \"Product\": \"Tablet\",\n",
        "    \"Category\": \"Electronics\",\n",
        "    \"Quantity\": 2,\n",
        "    \"Price\": 450,\n",
        "    \"Customer\": \"Victor\",\n",
        "    \"Region\": \"East\"\n",
        "}\n",
        "\n",
        "# Step 1: Add Discount column (10% if Quantity >= 5 else 0)\n",
        "df[\"Discount\"] = df[\"Quantity\"].apply(lambda x: 0.1 * x if x >= 5 else 0)\n",
        "\n",
        "# Step 2: Add FinalTotal column (Total - discount)\n",
        "df[\"FinalTotal\"] = df[\"Total\"] - df[\"Discount\"]\n",
        "\n",
        "# Step 3: Show selected columns\n",
        "print(df[[\"OrderID\", \"Product\", \"Total\", \"Discount\", \"FinalTotal\"]])\n",
        "\n"
      ],
      "metadata": {
        "colab": {
          "base_uri": "https://localhost:8080/"
        },
        "id": "CcsG_JlA-kcY",
        "outputId": "3b2c9949-9f2f-45f2-a01f-c65316d70d0a"
      },
      "execution_count": 9,
      "outputs": [
        {
          "output_type": "stream",
          "name": "stdout",
          "text": [
            "    OrderID     Product  Total  Discount  FinalTotal\n",
            "0      1001      Laptop   1600       0.0      1600.0\n",
            "1      1002       Mouse    100       0.5        99.5\n",
            "2      1003    Keyboard    150       0.0       150.0\n",
            "3      1004     Monitor    800       0.0       800.0\n",
            "4      1005      Laptop    850       0.0       850.0\n",
            "5      1006  Headphones    240       0.6       239.4\n",
            "6      1007       Mouse    250       1.0       249.0\n",
            "7      1008       Chair    300       0.0       300.0\n",
            "8      1009        Desk    300       0.0       300.0\n",
            "9      1010      Laptop   2700       0.0      2700.0\n",
            "10     1011     Printer    240       0.0       240.0\n",
            "11     1012    Keyboard    220       0.0       220.0\n",
            "12     1013     Monitor    500       0.0       500.0\n",
            "13     1014       Mouse    140       0.7       139.3\n",
            "14     1015      Laptop   3750       0.5      3749.5\n",
            "15     1016  Headphones    105       0.0       105.0\n",
            "16     1017        Desk    560       0.0       560.0\n",
            "17     1018     Monitor    880       0.0       880.0\n",
            "18     1019     Printer    110       0.0       110.0\n",
            "19     1020       Chair   1080       0.6      1079.4\n"
          ]
        }
      ]
    },
    {
      "cell_type": "code",
      "source": [
        "import pandas as pd\n",
        "\n",
        "# Step 1: Create DataFrame\n",
        "data = {\n",
        "    # dictionary with OrderID, Product, etc.\n",
        "        \"OrderID\": range(1001, 1021),\n",
        "    \"Product\": [\n",
        "        \"Laptop\", \"Mouse\", \"Keyboard\", \"Monitor\", \"Laptop\",\n",
        "        \"Headphones\", \"Mouse\", \"Chair\", \"Desk\", \"Laptop\",\n",
        "        \"Printer\", \"Keyboard\", \"Monitor\", \"Mouse\", \"Laptop\",\n",
        "        \"Headphones\", \"Desk\", \"Monitor\", \"Printer\", \"Chair\"\n",
        "    ],\n",
        "    \"Category\": [\n",
        "        \"Electronics\", \"Accessories\", \"Accessories\", \"Electronics\", \"Electronics\",\n",
        "        \"Accessories\", \"Accessories\", \"Furniture\", \"Furniture\", \"Electronics\",\n",
        "        \"Electronics\", \"Accessories\", \"Electronics\", \"Accessories\", \"Electronics\",\n",
        "        \"Accessories\", \"Furniture\", \"Electronics\", \"Electronics\", \"Furniture\"\n",
        "    ],\n",
        "    \"Quantity\": [2, 5, 3, 4, 1, 6, 10, 2, 1, 3, 2, 4, 2, 7, 5, 3, 2, 4, 1, 6],\n",
        "    \"Price\": [800, 20, 50, 200, 850, 40, 25, 150, 300, 900, 120, 55, 250, 20, 750, 35, 280, 220, 110, 180],\n",
        "    \"Customer\": [\n",
        "        \"Alice\", \"Bob\", \"Charlie\", \"Diana\", \"Ethan\",\n",
        "        \"Fiona\", \"George\", \"Hannah\", \"Ian\", \"Jane\",\n",
        "        \"Kyle\", \"Laura\", \"Mike\", \"Nina\", \"Oscar\",\n",
        "        \"Paul\", \"Queen\", \"Robert\", \"Sarah\", \"Tom\"\n",
        "    ],\n",
        "    \"Region\": [\n",
        "        \"North\", \"South\", \"East\", \"West\", \"North\",\n",
        "        \"South\", \"East\", \"West\", \"North\", \"South\",\n",
        "        \"East\", \"West\", \"North\", \"South\", \"East\",\n",
        "        \"West\", \"North\", \"South\", \"East\", \"West\"\n",
        "    ]\n",
        "}\n",
        "df = pd.DataFrame(data)\n",
        "\n",
        "# Compute Total column\n",
        "df[\"Total\"] = df[\"Quantity\"] * df[\"Price\"]\n",
        "\n",
        "# Step 1: Create new record\n",
        "new_row = {\n",
        "    \"OrderID\": 1021,\n",
        "    \"Product\": \"Tablet\",\n",
        "    \"Category\": \"Electronics\",\n",
        "    \"Quantity\": 2,\n",
        "    \"Price\": 450,\n",
        "    \"Customer\": \"Victor\",\n",
        "    \"Region\": \"East\"\n",
        "}\n",
        "\n",
        "# Step 2: Append to DataFrame\n",
        "new_row_df = pd.DataFrame([new_row])\n",
        "df = pd.concat([df, new_row_df], ignore_index=True)\n",
        "\n",
        "# Step 3: Recalculate Total\n",
        "df[\"Total\"] = df[\"Quantity\"] * df[\"Price\"]\n",
        "\n",
        "# Step 4: Show last 3 rows\n",
        "print(df.tail(3))"
      ],
      "metadata": {
        "id": "FNSvLlsK_H-c",
        "colab": {
          "base_uri": "https://localhost:8080/"
        },
        "outputId": "c7e02a0c-e77a-4a17-8a69-1abe67f9bccc"
      },
      "execution_count": 11,
      "outputs": [
        {
          "output_type": "stream",
          "name": "stdout",
          "text": [
            "    OrderID  Product     Category  Quantity  Price Customer Region  Total\n",
            "18     1019  Printer  Electronics         1    110    Sarah   East    110\n",
            "19     1020    Chair    Furniture         6    180      Tom   West   1080\n",
            "20     1021   Tablet  Electronics         2    450   Victor   East    900\n"
          ]
        }
      ]
    }
  ]
}